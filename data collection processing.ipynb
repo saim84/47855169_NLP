{
 "cells": [
  {
   "cell_type": "code",
   "execution_count": 18,
   "id": "5ad7bbee",
   "metadata": {},
   "outputs": [],
   "source": [
    "import pandas as pd\n",
    "import numpy as np\n",
    "import os\n",
    "\n",
    "os.makedirs('data', exist_ok=True)\n",
    "# Load dataset\n",
    "df = pd.read_csv(r\"C:\\Users\\saila\\Documents\\NLP Ass2\\socmed.csv\")\n",
    "\n",
    "# Save preprocessed data\n",
    "df.to_csv('data/preprocessed_data.csv', index=False)\n"
   ]
  },
  {
   "cell_type": "code",
   "execution_count": 19,
   "id": "2b6a37b0",
   "metadata": {},
   "outputs": [
    {
     "name": "stdout",
     "output_type": "stream",
     "text": [
      "Columns in the dataset:\n",
      "Index([' Text', ' Sentiment'], dtype='object')\n",
      "The column 'sentiment' does not exist in the DataFrame.\n"
     ]
    }
   ],
   "source": [
    "import pandas as pd\n",
    "import matplotlib.pyplot as plt\n",
    "import seaborn as sns\n",
    "\n",
    "# Load preprocessed data\n",
    "df = pd.read_csv(r'C:\\Users\\saila\\Documents\\NLP Ass2\\socmed.csv')\n",
    "\n",
    "# Display column names to verify 'sentiment' exists\n",
    "print(\"Columns in the dataset:\")\n",
    "print(df.columns)\n",
    "\n",
    "# Check if 'sentiment' column exists\n",
    "if 'sentiment' in df.columns:\n",
    "    # Exploratory Data Analysis\n",
    "    # Example: Distribution of sentiments\n",
    "    sns.countplot(x=' sentiment', data=df)\n",
    "    plt.show()\n",
    "else:\n",
    "    print(\"The column 'sentiment' does not exist in the DataFrame.\")\n",
    "\n"
   ]
  }
 ],
 "metadata": {
  "kernelspec": {
   "display_name": "Python 3 (ipykernel)",
   "language": "python",
   "name": "python3"
  },
  "language_info": {
   "codemirror_mode": {
    "name": "ipython",
    "version": 3
   },
   "file_extension": ".py",
   "mimetype": "text/x-python",
   "name": "python",
   "nbconvert_exporter": "python",
   "pygments_lexer": "ipython3",
   "version": "3.11.3"
  }
 },
 "nbformat": 4,
 "nbformat_minor": 5
}
