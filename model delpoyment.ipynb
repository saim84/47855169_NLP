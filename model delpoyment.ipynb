{
 "cells": [
  {
   "cell_type": "code",
   "execution_count": null,
   "id": "40c14eae",
   "metadata": {},
   "outputs": [],
   "source": [
    "import joblib\n",
    "from sklearn.feature_extraction.text import TfidfVectorizer\n",
    "\n",
    "# Load model and vectorizer\n",
    "model = joblib.load('models/sentiment_model.pkl')\n",
    "tfidf = joblib.load('models/tfidf_vectorizer.pkl')\n",
    "\n",
    "# Example of model inference\n",
    "def predict_sentiment(text):\n",
    "    text_transformed = tfidf.transform([text])\n",
    "    prediction = model.predict(text_transformed)\n",
    "    return prediction\n",
    "\n",
    "# Example usage\n",
    "text = \"I love this product!\"\n",
    "print(predict_sentiment(text))"
   ]
  }
 ],
 "metadata": {
  "kernelspec": {
   "display_name": "Python 3 (ipykernel)",
   "language": "python",
   "name": "python3"
  },
  "language_info": {
   "codemirror_mode": {
    "name": "ipython",
    "version": 3
   },
   "file_extension": ".py",
   "mimetype": "text/x-python",
   "name": "python",
   "nbconvert_exporter": "python",
   "pygments_lexer": "ipython3",
   "version": "3.11.3"
  }
 },
 "nbformat": 4,
 "nbformat_minor": 5
}
